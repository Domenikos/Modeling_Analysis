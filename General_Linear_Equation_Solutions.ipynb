{
 "cells": [
  {
   "cell_type": "markdown",
   "id": "1a498e07",
   "metadata": {},
   "source": [
    "# Introduction to the Moore-Penrose Pseudo-Inverse\n",
    "The Moore-Penrose pseudo-inverse (often denoted as A+) is a generalization\n",
    "of the inverse matrix. It allows us to find a \"best-fit\" solution to a\n",
    "system of linear equations Ax = b, even when the matrix A is not square\n",
    "or is singular (non-invertible).\n",
    "\n",
    "For a system Ax = b, the pseudo-inverse solution is given by x = A+b.\n",
    "This solution has specific properties:\n",
    "1. If a unique solution exists, the pseudo-inverse finds it.\n",
    "2. If the system is overdetermined (more equations than unknowns, A is tall),\n",
    "   the pseudo-inverse finds the least-squares solution that minimizes ||Ax - b||^2.\n",
    "3. If the system is underdetermined (fewer equations than unknowns, A is wide),\n",
    "   the pseudo-inverse finds the solution with the minimum Euclidean norm (||x||^2)\n",
    "   among all possible solutions."
   ]
  },
  {
   "cell_type": "code",
   "execution_count": 1,
   "id": "84482a03",
   "metadata": {},
   "outputs": [
    {
     "name": "stdout",
     "output_type": "stream",
     "text": [
      "--- Solving Linear Equations using Moore-Penrose Pseudo-Inverse ---\n",
      "Using numpy.linalg.pinv for calculation.\n",
      "\n"
     ]
    }
   ],
   "source": [
    "import numpy as np\n",
    "\n",
    "print(\"--- Solving Linear Equations using Moore-Penrose Pseudo-Inverse ---\")\n",
    "print(\"Using numpy.linalg.pinv for calculation.\\n\")\n"
   ]
  },
  {
   "cell_type": "markdown",
   "id": "b74ba87a",
   "metadata": {},
   "source": [
    "### Example 1: Well-determined system (square, invertible matrix)\n",
    "In this case, the pseudo-inverse will behave like the regular inverse."
   ]
  },
  {
   "cell_type": "code",
   "execution_count": 2,
   "id": "7e9e4e33",
   "metadata": {},
   "outputs": [
    {
     "name": "stdout",
     "output_type": "stream",
     "text": [
      "--- Example 1: Well-determined System (Unique Solution) ---\n",
      "Matrix A1:\n",
      " [[2 1]\n",
      " [1 3]]\n",
      "Vector b1:\n",
      " [4 7]\n",
      "Pseudo-inverse of A1:\n",
      " [[ 0.6 -0.2]\n",
      " [-0.2  0.4]]\n",
      "Solution x1 (A1+ @ b1):\n",
      " [1. 2.]\n",
      "Verification (A1 @ x1):\n",
      " [4. 7.]\n",
      "--------------------------------------------------\n",
      "\n"
     ]
    }
   ],
   "source": [
    "\n",
    "print(\"--- Example 1: Well-determined System (Unique Solution) ---\")\n",
    "A1 = np.array([[2, 1],\n",
    "               [1, 3]])\n",
    "b1 = np.array([4, 7])\n",
    "\n",
    "print(\"Matrix A1:\\n\", A1)\n",
    "print(\"Vector b1:\\n\", b1)\n",
    "\n",
    "# Calculate the pseudo-inverse of A1\n",
    "A1_plus = np.linalg.pinv(A1)\n",
    "print(\"Pseudo-inverse of A1:\\n\", A1_plus)\n",
    "\n",
    "# Solve for x1\n",
    "x1 = A1_plus @ b1\n",
    "print(\"Solution x1 (A1+ @ b1):\\n\", x1)\n",
    "print(\"Verification (A1 @ x1):\\n\", A1 @ x1)\n",
    "print(\"-\" * 50 + \"\\n\")\n"
   ]
  },
  {
   "cell_type": "markdown",
   "id": "ab561109",
   "metadata": {},
   "source": [
    "### Example 2: Overdetermined system (more equations than unknowns)\n",
    "No exact solution exists, so the pseudo-inverse finds the least-squares solution.\n"
   ]
  },
  {
   "cell_type": "code",
   "execution_count": 4,
   "id": "9f50e580",
   "metadata": {},
   "outputs": [
    {
     "name": "stdout",
     "output_type": "stream",
     "text": [
      "--- Example 2: Overdetermined System (Least-Squares Solution) ---\n",
      "Matrix A2:\n",
      " [[1 1]\n",
      " [2 1]\n",
      " [3 1]]\n",
      "Vector b2:\n",
      " [2 3 5]\n",
      "Pseudo-inverse of A2:\n",
      " [[-5.00000000e-01 -1.27409951e-16  5.00000000e-01]\n",
      " [ 1.33333333e+00  3.33333333e-01 -6.66666667e-01]]\n",
      "Solution x2 (A2+ @ b2 - Least-Squares):\n",
      " [1.5        0.33333333]\n",
      "Verification (A2 @ x2) - Note the error:\n",
      " [1.83333333 3.33333333 4.83333333]\n",
      "Residual (||A2 @ x2 - b2||):\n",
      " 0.408248290463863\n",
      "--------------------------------------------------\n",
      "\n"
     ]
    }
   ],
   "source": [
    "print(\"--- Example 2: Overdetermined System (Least-Squares Solution) ---\")\n",
    "A2 = np.array([[1, 1],\n",
    "               [2, 1],\n",
    "               [3, 1]])\n",
    "b2 = np.array([2, 3, 5]) # This system is inconsistent\n",
    "\n",
    "print(\"Matrix A2:\\n\", A2)\n",
    "print(\"Vector b2:\\n\", b2)\n",
    "\n",
    "# Calculate the pseudo-inverse of A2\n",
    "A2_plus = np.linalg.pinv(A2)\n",
    "print(\"Pseudo-inverse of A2:\\n\", A2_plus)\n",
    "\n",
    "# Solve for x2 (least-squares solution)\n",
    "x2 = A2_plus @ b2\n",
    "print(\"Solution x2 (A2+ @ b2 - Least-Squares):\\n\", x2)\n",
    "print(\"Verification (A2 @ x2) - Note the error:\\n\", A2 @ x2)\n",
    "print(\"Residual (||A2 @ x2 - b2||):\\n\", np.linalg.norm(A2 @ x2 - b2))\n",
    "print(\"-\" * 50 + \"\\n\")\n"
   ]
  },
  {
   "cell_type": "markdown",
   "id": "fbc3f963",
   "metadata": {},
   "source": [
    "### Example 3: Underdetermined system (fewer equations than unknowns)\n",
    "Many solutions exist, the pseudo-inverse finds the one with minimum norm.\n"
   ]
  },
  {
   "cell_type": "markdown",
   "id": "7078239b",
   "metadata": {},
   "source": []
  },
  {
   "cell_type": "code",
   "execution_count": 5,
   "id": "816d5888",
   "metadata": {},
   "outputs": [
    {
     "name": "stdout",
     "output_type": "stream",
     "text": [
      "--- Example 3: Underdetermined System (Minimum-Norm Solution) ---\n",
      "Matrix A3:\n",
      " [[1 2 3]\n",
      " [4 5 6]]\n",
      "Vector b3:\n",
      " [7 8]\n",
      "Pseudo-inverse of A3:\n",
      " [[-0.94444444  0.44444444]\n",
      " [-0.11111111  0.11111111]\n",
      " [ 0.72222222 -0.22222222]]\n",
      "Solution x3 (A3+ @ b3 - Minimum-Norm):\n",
      " [-3.05555556  0.11111111  3.27777778]\n",
      "Verification (A3 @ x3):\n",
      " [7. 8.]\n",
      "Norm of x3 (||x3||):\n",
      " 4.482476167543181\n",
      "--------------------------------------------------\n",
      "\n"
     ]
    }
   ],
   "source": [
    "print(\"--- Example 3: Underdetermined System (Minimum-Norm Solution) ---\")\n",
    "A3 = np.array([[1, 2, 3],\n",
    "               [4, 5, 6]])\n",
    "b3 = np.array([7, 8])\n",
    "\n",
    "print(\"Matrix A3:\\n\", A3)\n",
    "print(\"Vector b3:\\n\", b3)\n",
    "\n",
    "# Calculate the pseudo-inverse of A3\n",
    "A3_plus = np.linalg.pinv(A3)\n",
    "print(\"Pseudo-inverse of A3:\\n\", A3_plus)\n",
    "\n",
    "# Solve for x3 (minimum-norm solution)\n",
    "x3 = A3_plus @ b3\n",
    "print(\"Solution x3 (A3+ @ b3 - Minimum-Norm):\\n\", x3)\n",
    "print(\"Verification (A3 @ x3):\\n\", A3 @ x3)\n",
    "print(\"Norm of x3 (||x3||):\\n\", np.linalg.norm(x3))\n",
    "print(\"-\" * 50 + \"\\n\")\n"
   ]
  },
  {
   "cell_type": "markdown",
   "id": "95f14995",
   "metadata": {},
   "source": [
    "### Example 4: Singular (non-invertible) square matrix\n",
    "Even though it's square, it's singular, so a regular inverse doesn't exist.\n",
    "Pseudo-inverse can still find a solution (least-squares if inconsistent,\n",
    "minimum-norm if consistent with multiple solutions).\n"
   ]
  },
  {
   "cell_type": "code",
   "execution_count": 13,
   "id": "09b5893d",
   "metadata": {},
   "outputs": [
    {
     "name": "stdout",
     "output_type": "stream",
     "text": [
      "--- Example 4: Singular Square Matrix ---\n",
      "Matrix A4:\n",
      " [[1 2]\n",
      " [2 4]]\n",
      "Vector b4:\n",
      " [3 6]\n",
      "Pseudo-inverse of A4:\n",
      " [[0.04 0.08]\n",
      " [0.08 0.16]]\n",
      "Solution x4 (A4+ @ b4 - Minimum-Norm):\n",
      " [0.6 1.2]\n",
      "Verification (A4 @ x4):\n",
      " [3. 6.]\n",
      "Norm of x4 (||x4||):\n",
      " 1.3416407864998734\n",
      "--------------------------------------------------\n",
      "\n"
     ]
    }
   ],
   "source": [
    "print(\"--- Example 4: Singular Square Matrix ---\")\n",
    "A4 = np.array([[1, 2],\n",
    "               [2, 4]]) # This matrix is singular (rows are linearly dependent)\n",
    "b4 = np.array([3, 6]) # This system is consistent (multiple solutions)\n",
    "\n",
    "print(\"Matrix A4:\\n\", A4)\n",
    "print(\"Vector b4:\\n\", b4)\n",
    "\n",
    "# Calculate the pseudo-inverse of A4\n",
    "A4_plus = np.linalg.pinv(A4)\n",
    "print(\"Pseudo-inverse of A4:\\n\", A4_plus)\n",
    "\n",
    "# Solve for x4\n",
    "x4 = A4_plus @ b4\n",
    "print(\"Solution x4 (A4+ @ b4 - Minimum-Norm):\\n\", x4)\n",
    "print(\"Verification (A4 @ x4):\\n\", A4 @ x4)\n",
    "print(\"Norm of x4 (||x4||):\\n\", np.linalg.norm(x4))\n",
    "print(\"-\" * 50 + \"\\n\")\n",
    "\n",
    "# --- How to interpret the results ---\n",
    "# - For well-determined systems, x will be the exact unique solution.\n",
    "# - For overdetermined systems, x will be the least-squares approximation.\n",
    "#   The residual (||Ax - b||) will indicate how well the solution fits.\n",
    "# - For underdetermined systems, x will be one of infinitely many solutions,\n",
    "#   specifically the one with the smallest Euclidean norm."
   ]
  }
 ],
 "metadata": {
  "kernelspec": {
   "display_name": "Python 3",
   "language": "python",
   "name": "python3"
  },
  "language_info": {
   "codemirror_mode": {
    "name": "ipython",
    "version": 3
   },
   "file_extension": ".py",
   "mimetype": "text/x-python",
   "name": "python",
   "nbconvert_exporter": "python",
   "pygments_lexer": "ipython3",
   "version": "3.10.12"
  }
 },
 "nbformat": 4,
 "nbformat_minor": 5
}
