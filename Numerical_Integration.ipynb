{
 "cells": [
  {
   "cell_type": "markdown",
   "id": "b52b7acc",
   "metadata": {},
   "source": [
    "## Numerical Integration"
   ]
  },
  {
   "cell_type": "markdown",
   "id": "d81ecbef",
   "metadata": {},
   "source": [
    "### 1. Using scipy.integrate.quad for general integration:\n",
    "For integrating a function of one variable between two points, including infinite limits, quad is a versatile choice."
   ]
  },
  {
   "cell_type": "code",
   "execution_count": null,
   "id": "8b498c95",
   "metadata": {},
   "outputs": [],
   "source": [
    "import scipy.integrate as integrate\n",
    "import numpy as np\n",
    "\n",
    "# Define the function to integrate\n",
    "def f(x):\n",
    "    return np.sin(x)\n",
    "\n",
    "# Integrate f(x) from 0 to pi\n",
    "result, error = integrate.quad(f, 0, np.pi)\n",
    "print(f\"Result of integration: {result}\")\n",
    "print(f\"Estimated absolute error: {error}\")"
   ]
  },
  {
   "cell_type": "markdown",
   "id": "81096825",
   "metadata": {},
   "source": [
    "### 2. Using scipy.integrate.trapz for integrating sampled data:\n",
    "If you have a set of discrete data points (x and y values) rather than a continuous function, trapz (Trapezoidal Rule) can be used."
   ]
  },
  {
   "cell_type": "code",
   "execution_count": null,
   "id": "50945838",
   "metadata": {},
   "outputs": [],
   "source": [
    "import scipy.integrate as integrate\n",
    "import numpy as np\n",
    "\n",
    "# Sample data\n",
    "x = np.array([0, 1, 2, 3, 4])\n",
    "y = np.array([0, 1, 4, 9, 16]) # Example: y = x**2\n",
    "\n",
    "# Integrate using the trapezoidal rule\n",
    "result = integrate.trapezoid(y, x)\n",
    "print(f\"Result of integration using trapz: {result}\")"
   ]
  },
  {
   "cell_type": "markdown",
   "id": "1c062301",
   "metadata": {},
   "source": [
    "### 3. Using scipy.integrate.simpson for improved accuracy with sampled data:\n",
    "For sampled data, Simpson's Rule generally provides a more accurate approximation than the Trapezoidal Rule."
   ]
  },
  {
   "cell_type": "code",
   "execution_count": null,
   "id": "872b8b28",
   "metadata": {},
   "outputs": [],
   "source": [
    "import scipy.integrate as integrate\n",
    "import numpy as np\n",
    "\n",
    "# Sample data (requires an odd number of points for standard Simpson's rule)\n",
    "x = np.array([0, 0.5, 1, 1.5, 2])\n",
    "y = np.array([0, 0.25, 1, 2.25, 4]) # Example: y = x**2\n",
    "\n",
    "# Integrate using Simpson's rule\n",
    "result = integrate.simpson(y, x)\n",
    "print(f\"Result of integration using simpson: {result}\")"
   ]
  }
 ],
 "metadata": {
  "kernelspec": {
   "display_name": "Python 3",
   "language": "python",
   "name": "python3"
  },
  "language_info": {
   "codemirror_mode": {
    "name": "ipython",
    "version": 3
   },
   "file_extension": ".py",
   "mimetype": "text/x-python",
   "name": "python",
   "nbconvert_exporter": "python",
   "pygments_lexer": "ipython3",
   "version": "3.10.12"
  }
 },
 "nbformat": 4,
 "nbformat_minor": 5
}
