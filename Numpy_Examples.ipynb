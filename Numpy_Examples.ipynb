{
 "cells": [
  {
   "cell_type": "markdown",
   "id": "cd620a4e",
   "metadata": {},
   "source": [
    "# NumPy Examples\n",
    "\n",
    "NumPy is the fundamental package for scientific computing in Python. It is a Python library that provides a multidimensional array object, various derived objects (such as masked arrays and matrices), and an assortment of routines for fast operations on arrays, including mathematical, logical, shape manipulation, sorting, selecting, I/O, discrete Fourier transforms, basic linear algebra, basic statistical operations, random simulation and much more.</br>\n",
    "The following example code introduces some of the features on NumPy.  See the NumPy documentation for more information.</br>\n",
    "[NumPy documentation](https://numpy.org/doc/stable/index.html)"
   ]
  },
  {
   "cell_type": "code",
   "execution_count": null,
   "id": "92c12fa8",
   "metadata": {},
   "outputs": [],
   "source": [
    "import numpy as np\n",
    "\n",
    "# Create a 1D array (vector)\n",
    "arr_1d = np.array([1, 2, 3, 4, 5])\n",
    "print(\"1D Array:\", arr_1d)\n",
    "\n",
    "# Create a 2D array (matrix)\n",
    "arr_2d = np.array([[1, 2, 3], [4, 5, 6]])\n",
    "print(\"2D Array:\\n\", arr_2d)\n",
    "\n",
    "# Create a 3D array\n",
    "arr_3d = np.array([[[1, 2], [3, 4]], [[5, 6], [7, 8]]])\n",
    "print(\"3D Array:\\n\", arr_3d)"
   ]
  },
  {
   "cell_type": "markdown",
   "id": "ebc66e2a",
   "metadata": {},
   "source": [
    "NumPy also provides functions to create arrays with initial placeholder content:"
   ]
  },
  {
   "cell_type": "code",
   "execution_count": null,
   "id": "068a8658",
   "metadata": {},
   "outputs": [],
   "source": [
    "# Array of zeros\n",
    "zeros_arr = np.zeros((3, 4)) # 3 rows, 4 columns\n",
    "print(\"Array of Zeros:\\n\", zeros_arr)\n",
    "\n",
    "# Array of ones\n",
    "ones_arr = np.ones((2, 2))\n",
    "print(\"Array of Ones:\\n\", ones_arr)\n",
    "\n",
    "# Empty array (values are uninitialized, whatever is in memory)\n",
    "empty_arr = np.empty((2, 3))\n",
    "print(\"Empty Array:\\n\", empty_arr)\n",
    "\n",
    "# Array with a range of values\n",
    "range_arr = np.arange(0, 10, 2) # Start, Stop (exclusive), Step\n",
    "print(\"Range Array:\", range_arr)\n",
    "\n",
    "# Linearly spaced array\n",
    "linspace_arr = np.linspace(0, 10, 5) # Start, Stop (inclusive), Number of elements\n",
    "print(\"Linspace Array:\", linspace_arr)\n"
   ]
  },
  {
   "cell_type": "markdown",
   "id": "8b5289bf",
   "metadata": {},
   "source": [
    "### Array Attributes\n",
    "* .ndim: The number of dimensions (axes) of the array.\n",
    "\n",
    "* .shape: A tuple indicating the size of the array in each dimension.\n",
    "\n",
    "* .size: The total number of elements in the array.\n",
    "\n",
    "* .dtype: The data type of the elements in the array."
   ]
  },
  {
   "cell_type": "code",
   "execution_count": null,
   "id": "c7215089",
   "metadata": {},
   "outputs": [],
   "source": [
    "arr = np.array([[1, 2, 3], [4, 5, 6]])\n",
    "\n",
    "print(\"Dimensions:\", arr.ndim)\n",
    "print(\"Shape:\", arr.shape)\n",
    "print(\"Size:\", arr.size)\n",
    "print(\"Data Type:\", arr.dtype)"
   ]
  },
  {
   "cell_type": "markdown",
   "id": "d16d4932",
   "metadata": {},
   "source": [
    "### Element-wise Operations\n",
    "Arithmetic operations (+, -, *, /) are performed element-wise."
   ]
  },
  {
   "cell_type": "code",
   "execution_count": null,
   "id": "f1a8cd7b",
   "metadata": {},
   "outputs": [],
   "source": [
    "arr1 = np.array([1, 2, 3])\n",
    "arr2 = np.array([4, 5, 6])\n",
    "\n",
    "print(\"Addition:\", arr1 + arr2)\n",
    "print(\"Subtraction:\", arr1 - arr2)\n",
    "print(\"Multiplication:\", arr1 * arr2)\n",
    "print(\"Division:\", arr1 / arr2)\n"
   ]
  },
  {
   "cell_type": "markdown",
   "id": "4ee2dbfc",
   "metadata": {},
   "source": [
    "### Broadcasting\n",
    "Broadcasting is a powerful mechanism that allows NumPy to perform operations on arrays of different shapes. It implicitly \"stretches\" the smaller array to match the larger one, provided they are compatible.\n",
    "\n"
   ]
  },
  {
   "cell_type": "code",
   "execution_count": null,
   "id": "78a3f344",
   "metadata": {},
   "outputs": [],
   "source": [
    "arr = np.array([[1, 2, 3], [4, 5, 6]])\n",
    "scalar = 10\n",
    "\n",
    "print(\"Array + Scalar:\\n\", arr + scalar) # Scalar is broadcast to all elements\n",
    "print(\"Array - Scalar:\\n\", arr - scalar)\n",
    "print(\"Array * Scalar:\\n\", arr * scalar)\n",
    "print(\"Array / Scalar:\\n\", arr / scalar)"
   ]
  },
  {
   "cell_type": "markdown",
   "id": "4eeaca14",
   "metadata": {},
   "source": [
    "### Universal Functions (ufuncs) \n",
    "NumPy provides many universal functions (ufuncs) that operate element-wise on arrays, such as np.sqrt(), np.sin(), np.cos(), np.exp(), etc."
   ]
  },
  {
   "cell_type": "code",
   "execution_count": null,
   "id": "990bd018",
   "metadata": {},
   "outputs": [],
   "source": [
    "arr = np.array([1, 4, 9])\n",
    "print(\"Square Root:\", np.sqrt(arr))\n",
    "print(\"Sine:\", np.sin(arr))\n",
    "print(\"Cosine:\", np.cos(arr))\n",
    "print(\"Exponential:\", np.exp(arr))"
   ]
  },
  {
   "cell_type": "markdown",
   "id": "1c11a4f9",
   "metadata": {},
   "source": [
    "### Aggregate Functions\n",
    "NumPy offers functions to perform aggregations (e.g., sum, mean, min, max) along specified axes."
   ]
  },
  {
   "cell_type": "code",
   "execution_count": null,
   "id": "e46727f3",
   "metadata": {},
   "outputs": [],
   "source": [
    "arr = np.array([[1, 2, 3], [4, 5, 6]])\n",
    "\n",
    "print(\"Sum of all elements:\", np.sum(arr))\n",
    "print(\"Sum along columns (axis=0):\", np.sum(arr, axis=0)) # Sum of [1,4], [2,5], [3,6]\n",
    "print(\"Sum along rows (axis=1):\", np.sum(arr, axis=1))    # Sum of [1,2,3], [4,5,6]\n",
    "\n",
    "print(\"Mean of all elements:\", np.mean(arr))\n",
    "print(\"Maximum element:\", np.max(arr))"
   ]
  },
  {
   "cell_type": "markdown",
   "id": "29cf74a8",
   "metadata": {},
   "source": [
    "## Indexing and Slicing\n",
    "### Basic Indexing \n"
   ]
  },
  {
   "cell_type": "code",
   "execution_count": null,
   "id": "035877cd",
   "metadata": {},
   "outputs": [],
   "source": [
    "arr = np.array([10, 20, 30, 40, 50])\n",
    "\n",
    "print(\"First element:\", arr[0])\n",
    "print(\"Last element:\", arr[-1])\n",
    "\n",
    "matrix = np.array([[1, 2, 3], [4, 5, 6], [7, 8, 9]])\n",
    "print(\"Element at (0, 1):\", matrix[0, 1]) # Row 0, Column 1 (value 2)\n",
    "print(\"Element at (2, 0):\", matrix[2, 0]) # Row 2, Column 0 (value 7)\n"
   ]
  },
  {
   "cell_type": "markdown",
   "id": "8d1ceff5",
   "metadata": {},
   "source": [
    "### Slicing\n",
    "Slicing allows you to extract subarrays. The syntax is start:stop:step"
   ]
  },
  {
   "cell_type": "code",
   "execution_count": null,
   "id": "29a81dae",
   "metadata": {},
   "outputs": [],
   "source": [
    "arr = np.array([0, 1, 2, 3, 4, 5, 6, 7, 8, 9])\n",
    "\n",
    "print(\"Elements from index 2 to 5:\", arr[2:6])    # [2 3 4 5]\n",
    "print(\"Elements from beginning to index 4:\", arr[:5]) # [0 1 2 3 4]\n",
    "print(\"Elements from index 5 to end:\", arr[5:])    # [5 6 7 8 9]\n",
    "print(\"Every other element:\", arr[::2])         # [0 2 4 6 8]\n",
    "print(\"Reversed array:\", arr[::-1])           # [9 8 7 6 5 4 3 2 1 0]\n",
    "\n",
    "matrix = np.array([[1, 2, 3], [4, 5, 6], [7, 8, 9]])\n",
    "print(\"First two rows:\\n\", matrix[:2, :])\n",
    "print(\"All rows, last column:\\n\", matrix[:, 2])\n",
    "print(\"Sub-matrix (rows 0-1, cols 1-2):\\n\", matrix[0:2, 1:3])\n"
   ]
  },
  {
   "cell_type": "markdown",
   "id": "d882e362",
   "metadata": {},
   "source": [
    "### Reshaping Arrays \n",
    "Changing the shape of an array without changing its data is a common operation.\n",
    "\n",
    "    reshape()\n",
    "\n",
    "The reshape() method returns a new array with the specified shape."
   ]
  },
  {
   "cell_type": "code",
   "execution_count": null,
   "id": "3db6687b",
   "metadata": {},
   "outputs": [],
   "source": [
    "arr = np.arange(12) # [ 0  1  2  3  4  5  6  7  8  9 10 11]\n",
    "print(\"Original Array:\", arr)\n",
    "\n",
    "# Reshape to a 3x4 matrix\n",
    "reshaped_arr = arr.reshape(3, 4)\n",
    "print(\"Reshaped to 3x4:\\n\", reshaped_arr)\n",
    "\n",
    "# Reshape to a 2x2x3 3D array\n",
    "reshaped_3d = arr.reshape(2, 2, 3)\n",
    "print(\"Reshaped to 2x2x3:\\n\", reshaped_3d)\n",
    "\n",
    "# Use -1 for an unknown dimension (NumPy calculates it)\n",
    "reshaped_auto = arr.reshape(4, -1) # 4 rows, NumPy calculates columns\n",
    "print(\"Reshaped with auto-dimension:\\n\", reshaped_auto)\n",
    "\n",
    "# Transpose a 2D array\n",
    "matrix = np.array([[1, 2, 3], [4, 5, 6], [7, 8, 9]])\n",
    "print(\"Original Matrix:\\n\", matrix)\n",
    "print(\"Matrix Transpose:\\n\", matrix.T)"
   ]
  },
  {
   "cell_type": "markdown",
   "id": "351d60ec",
   "metadata": {},
   "source": [
    "## Linear Algebra with NumPy\n",
    "NumPy provides capabilities for several linear algebra operations; however, it is recommended to use scipy.linalg for a more robust linear algebra operations.\n",
    "\n",
    "### Dot Product \n",
    "The dot product of two arrays (vectors or  2-D matrices) can be calculated using np.dot(), np.matmul, or the @ operator (for matrix multiplication). However, for n-dimensional arrays, they work differently."
   ]
  },
  {
   "cell_type": "code",
   "execution_count": null,
   "id": "5a24fc7e",
   "metadata": {},
   "outputs": [],
   "source": [
    "# Vector dot product\n",
    "vec1 = np.array([1, 2])\n",
    "vec2 = np.array([3, 4])\n",
    "dot_product = np.dot(vec1, vec2)\n",
    "print(\"Vector Dot Product:\", dot_product) # (1*3) + (2*4) = 11\n",
    "\n",
    "# Matrix multiplication\n",
    "mat1 = np.array([[1, 2], [3, 4]])\n",
    "mat2 = np.array([[5, 6], [7, 8]])\n",
    "matrix_product = np.dot(mat1, mat2)\n",
    "# or using the @ operator to achieve the same result\n",
    "matrix_product_at = mat1 @ mat2\n",
    "print(\"Matrix Product (np.dot):\\n\", matrix_product)\n",
    "print(\"Matrix Product (@ operator):\\n\", matrix_product_at)\n"
   ]
  },
  {
   "cell_type": "markdown",
   "id": "d97f689e",
   "metadata": {},
   "source": [
    "### Determinant, Inverse, Eigenvalues\n",
    "NumPy's linalg module provides functions for advanced linear algebra.\n",
    "\n"
   ]
  },
  {
   "cell_type": "code",
   "execution_count": null,
   "id": "f7a0889a",
   "metadata": {},
   "outputs": [],
   "source": [
    "from numpy import linalg\n",
    "\n",
    "matrix = np.array([[1, 2], [3, 4]])\n",
    "\n",
    "# Determinant\n",
    "det = linalg.det(matrix)\n",
    "print(f\"Determinant: {det:.2f}\")\n",
    "\n",
    "# Inverse\n",
    "inv_matrix = linalg.inv(matrix)\n",
    "print(f\"Inverse Matrix:\\n {inv_matrix}\")\n",
    "\n",
    "# Eigenvalues and Eigenvectors\n",
    "eigenvalues, eigenvectors = linalg.eig(matrix)\n",
    "print(f\"Eigenvalues: {np.array2string(eigenvalues, formatter={'float': lambda x: f'{x:.2f}'})}\")\n",
    "print(f\"Eigenvectors:\\n {np.array2string(eigenvectors, formatter={'float': lambda x: f'{x:.2f}'})}\")"
   ]
  },
  {
   "cell_type": "markdown",
   "id": "ea36d5fb",
   "metadata": {},
   "source": [
    "### Solve linear matrix equation with M equations and M unknows </br>\n",
    "\n",
    "    x = numpy.linalg.solve(A,b)\n",
    "    where A: (M,M) array of scalars\n",
    "          b: (M,K) array of scalars\n",
    "          x: (M,K) array of scalars\n",
    "    LinAlgError occurs is a is not square or is singular\n",
    "\n",
    "Solve the system of equations\n",
    "$$ A x = b \\\\\n",
    "x_0 + 2 x_1 = 1 \\\\\n",
    "3 x_0 + 5 x_1 = 2\n",
    "$$"
   ]
  },
  {
   "cell_type": "code",
   "execution_count": null,
   "id": "d458b187",
   "metadata": {},
   "outputs": [],
   "source": [
    "import numpy as np\n",
    "\n",
    "a = np.array([[1, 2], [3, 5]])\n",
    "b = np.array([1, 2])\n",
    "x = np.linalg.solve(a, b)\n",
    "print(\"Solution to Ax = b:\\n\", x)"
   ]
  },
  {
   "cell_type": "markdown",
   "id": "b6af3cf6",
   "metadata": {},
   "source": [
    "**Note**: A and A inverse are a 2x2 arrays and b is a 1x2 row vector. b is treated as a column vector in the solution $x = A^{-1} b$, and presented as a row vector."
   ]
  }
 ],
 "metadata": {
  "kernelspec": {
   "display_name": "Python 3",
   "language": "python",
   "name": "python3"
  },
  "language_info": {
   "codemirror_mode": {
    "name": "ipython",
    "version": 3
   },
   "file_extension": ".py",
   "mimetype": "text/x-python",
   "name": "python",
   "nbconvert_exporter": "python",
   "pygments_lexer": "ipython3",
   "version": "3.12.3"
  }
 },
 "nbformat": 4,
 "nbformat_minor": 5
}
