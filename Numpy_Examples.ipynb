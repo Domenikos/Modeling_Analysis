{
 "cells": [
  {
   "cell_type": "markdown",
   "id": "cd620a4e",
   "metadata": {},
   "source": [
    "# NumPy Examples\n",
    "\n",
    "NumPy is the fundamental package for scientific computing in Python. It is a Python library that provides a multidimensional array object, various derived objects (such as masked arrays and matrices), and an assortment of routines for fast operations on arrays, including mathematical, logical, shape manipulation, sorting, selecting, I/O, discrete Fourier transforms, basic linear algebra, basic statistical operations, random simulation and much more.</br>\n",
    "The following example code introduces some of the features on NumPy.  See the NumPy documentation for more information.</br>\n",
    "[NumPy documentation](https://numpy.org/doc/stable/index.html)"
   ]
  },
  {
   "cell_type": "code",
   "execution_count": 32,
   "id": "92c12fa8",
   "metadata": {},
   "outputs": [
    {
     "name": "stdout",
     "output_type": "stream",
     "text": [
      "1D Array: [1 2 3 4 5]\n",
      "2D Array:\n",
      " [[1 2 3]\n",
      " [4 5 6]]\n",
      "3D Array:\n",
      " [[[1 2]\n",
      "  [3 4]]\n",
      "\n",
      " [[5 6]\n",
      "  [7 8]]]\n"
     ]
    }
   ],
   "source": [
    "import numpy as np\n",
    "\n",
    "# Create a 1D array (vector)\n",
    "arr_1d = np.array([1, 2, 3, 4, 5])\n",
    "print(\"1D Array:\", arr_1d)\n",
    "\n",
    "# Create a 2D array (matrix)\n",
    "arr_2d = np.array([[1, 2, 3], [4, 5, 6]])\n",
    "print(\"2D Array:\\n\", arr_2d)\n",
    "\n",
    "# Create a 3D array\n",
    "arr_3d = np.array([[[1, 2], [3, 4]], [[5, 6], [7, 8]]])\n",
    "print(\"3D Array:\\n\", arr_3d)"
   ]
  },
  {
   "cell_type": "markdown",
   "id": "ebc66e2a",
   "metadata": {},
   "source": [
    "NumPy also provides functions to create arrays with initial placeholder content:"
   ]
  },
  {
   "cell_type": "code",
   "execution_count": 33,
   "id": "068a8658",
   "metadata": {},
   "outputs": [
    {
     "name": "stdout",
     "output_type": "stream",
     "text": [
      "Array of Zeros:\n",
      " [[0. 0. 0. 0.]\n",
      " [0. 0. 0. 0.]\n",
      " [0. 0. 0. 0.]]\n",
      "Array of Ones:\n",
      " [[1. 1.]\n",
      " [1. 1.]]\n",
      "Empty Array:\n",
      " [[4.9e-324 9.9e-324 1.5e-323]\n",
      " [2.0e-323 2.5e-323 3.0e-323]]\n",
      "Range Array: [0 2 4 6 8]\n",
      "Linspace Array: [ 0.   2.5  5.   7.5 10. ]\n"
     ]
    }
   ],
   "source": [
    "# Array of zeros\n",
    "zeros_arr = np.zeros((3, 4)) # 3 rows, 4 columns\n",
    "print(\"Array of Zeros:\\n\", zeros_arr)\n",
    "\n",
    "# Array of ones\n",
    "ones_arr = np.ones((2, 2))\n",
    "print(\"Array of Ones:\\n\", ones_arr)\n",
    "\n",
    "# Empty array (values are uninitialized, whatever is in memory)\n",
    "empty_arr = np.empty((2, 3))\n",
    "print(\"Empty Array:\\n\", empty_arr)\n",
    "\n",
    "# Array with a range of values\n",
    "range_arr = np.arange(0, 10, 2) # Start, Stop (exclusive), Step\n",
    "print(\"Range Array:\", range_arr)\n",
    "\n",
    "# Linearly spaced array\n",
    "linspace_arr = np.linspace(0, 10, 5) # Start, Stop (inclusive), Number of elements\n",
    "print(\"Linspace Array:\", linspace_arr)\n"
   ]
  },
  {
   "cell_type": "markdown",
   "id": "8b5289bf",
   "metadata": {},
   "source": [
    "### Array Attributes\n",
    "* .ndim: The number of dimensions (axes) of the array.\n",
    "\n",
    "* .shape: A tuple indicating the size of the array in each dimension.\n",
    "\n",
    "* .size: The total number of elements in the array.\n",
    "\n",
    "* .dtype: The data type of the elements in the array."
   ]
  },
  {
   "cell_type": "code",
   "execution_count": 34,
   "id": "c7215089",
   "metadata": {},
   "outputs": [
    {
     "name": "stdout",
     "output_type": "stream",
     "text": [
      "Dimensions: 2\n",
      "Shape: (2, 3)\n",
      "Size: 6\n",
      "Data Type: int64\n"
     ]
    }
   ],
   "source": [
    "arr = np.array([[1, 2, 3], [4, 5, 6]])\n",
    "\n",
    "print(\"Dimensions:\", arr.ndim)\n",
    "print(\"Shape:\", arr.shape)\n",
    "print(\"Size:\", arr.size)\n",
    "print(\"Data Type:\", arr.dtype)"
   ]
  },
  {
   "cell_type": "markdown",
   "id": "d16d4932",
   "metadata": {},
   "source": [
    "### Element-wise Operations\n",
    "Arithmetic operations (+, -, *, /) are performed element-wise."
   ]
  },
  {
   "cell_type": "code",
   "execution_count": 35,
   "id": "f1a8cd7b",
   "metadata": {},
   "outputs": [
    {
     "name": "stdout",
     "output_type": "stream",
     "text": [
      "Addition: [5 7 9]\n",
      "Multiplication: [ 4 10 18]\n"
     ]
    }
   ],
   "source": [
    "arr1 = np.array([1, 2, 3])\n",
    "arr2 = np.array([4, 5, 6])\n",
    "\n",
    "print(\"Addition:\", arr1 + arr2)\n",
    "print(\"Multiplication:\", arr1 * arr2)"
   ]
  },
  {
   "cell_type": "markdown",
   "id": "4ee2dbfc",
   "metadata": {},
   "source": [
    "### Broadcasting\n",
    "Broadcasting is a powerful mechanism that allows NumPy to perform operations on arrays of different shapes. It implicitly \"stretches\" the smaller array to match the larger one, provided they are compatible.\n",
    "\n"
   ]
  },
  {
   "cell_type": "code",
   "execution_count": 36,
   "id": "78a3f344",
   "metadata": {},
   "outputs": [
    {
     "name": "stdout",
     "output_type": "stream",
     "text": [
      "Array + Scalar:\n",
      " [[11 12 13]\n",
      " [14 15 16]]\n",
      "Array - Scalar:\n",
      " [[-9 -8 -7]\n",
      " [-6 -5 -4]]\n",
      "Array * Scalar:\n",
      " [[10 20 30]\n",
      " [40 50 60]]\n",
      "Array / Scalar:\n",
      " [[0.1 0.2 0.3]\n",
      " [0.4 0.5 0.6]]\n"
     ]
    }
   ],
   "source": [
    "arr = np.array([[1, 2, 3], [4, 5, 6]])\n",
    "scalar = 10\n",
    "\n",
    "print(\"Array + Scalar:\\n\", arr + scalar) # Scalar is broadcast to all elements\n",
    "print(\"Array - Scalar:\\n\", arr - scalar)\n",
    "print(\"Array * Scalar:\\n\", arr * scalar)\n",
    "print(\"Array / Scalar:\\n\", arr / scalar)"
   ]
  },
  {
   "cell_type": "markdown",
   "id": "4eeaca14",
   "metadata": {},
   "source": [
    "### Universal Functions (ufuncs) \n",
    "NumPy provides many universal functions (ufuncs) that operate element-wise on arrays, such as np.sqrt(), np.sin(), np.cos(), np.exp(), etc."
   ]
  },
  {
   "cell_type": "code",
   "execution_count": 37,
   "id": "990bd018",
   "metadata": {},
   "outputs": [
    {
     "name": "stdout",
     "output_type": "stream",
     "text": [
      "Square Root: [1. 2. 3.]\n",
      "Sine: [ 0.84147098 -0.7568025   0.41211849]\n",
      "Cosine: [ 0.54030231 -0.65364362 -0.91113026]\n",
      "Exponential: [2.71828183e+00 5.45981500e+01 8.10308393e+03]\n"
     ]
    }
   ],
   "source": [
    "arr = np.array([1, 4, 9])\n",
    "print(\"Square Root:\", np.sqrt(arr))\n",
    "print(\"Sine:\", np.sin(arr))\n",
    "print(\"Cosine:\", np.cos(arr))\n",
    "print(\"Exponential:\", np.exp(arr))"
   ]
  },
  {
   "cell_type": "markdown",
   "id": "1c11a4f9",
   "metadata": {},
   "source": [
    "### Aggregate Functions\n",
    "NumPy offers functions to perform aggregations (e.g., sum, mean, min, max) along specified axes."
   ]
  },
  {
   "cell_type": "code",
   "execution_count": 38,
   "id": "e46727f3",
   "metadata": {},
   "outputs": [
    {
     "name": "stdout",
     "output_type": "stream",
     "text": [
      "Sum of all elements: 21\n",
      "Sum along columns (axis=0): [5 7 9]\n",
      "Sum along rows (axis=1): [ 6 15]\n",
      "Mean of all elements: 3.5\n",
      "Maximum element: 6\n"
     ]
    }
   ],
   "source": [
    "arr = np.array([[1, 2, 3], [4, 5, 6]])\n",
    "\n",
    "print(\"Sum of all elements:\", np.sum(arr))\n",
    "print(\"Sum along columns (axis=0):\", np.sum(arr, axis=0)) # Sum of [1,4], [2,5], [3,6]\n",
    "print(\"Sum along rows (axis=1):\", np.sum(arr, axis=1))    # Sum of [1,2,3], [4,5,6]\n",
    "\n",
    "print(\"Mean of all elements:\", np.mean(arr))\n",
    "print(\"Maximum element:\", np.max(arr))"
   ]
  },
  {
   "cell_type": "markdown",
   "id": "29cf74a8",
   "metadata": {},
   "source": [
    "## Indexing and Slicing\n",
    "### Basic Indexing \n"
   ]
  },
  {
   "cell_type": "code",
   "execution_count": 39,
   "id": "035877cd",
   "metadata": {},
   "outputs": [
    {
     "name": "stdout",
     "output_type": "stream",
     "text": [
      "First element: 10\n",
      "Last element: 50\n",
      "Element at (0, 1): 2\n",
      "Element at (2, 0): 7\n"
     ]
    }
   ],
   "source": [
    "arr = np.array([10, 20, 30, 40, 50])\n",
    "\n",
    "print(\"First element:\", arr[0])\n",
    "print(\"Last element:\", arr[-1])\n",
    "\n",
    "matrix = np.array([[1, 2, 3], [4, 5, 6], [7, 8, 9]])\n",
    "print(\"Element at (0, 1):\", matrix[0, 1]) # Row 0, Column 1 (value 2)\n",
    "print(\"Element at (2, 0):\", matrix[2, 0]) # Row 2, Column 0 (value 7)\n"
   ]
  },
  {
   "cell_type": "markdown",
   "id": "8d1ceff5",
   "metadata": {},
   "source": [
    "### Slicing\n",
    "Slicing allows you to extract subarrays. The syntax is start:stop:step"
   ]
  },
  {
   "cell_type": "code",
   "execution_count": 40,
   "id": "29a81dae",
   "metadata": {},
   "outputs": [
    {
     "name": "stdout",
     "output_type": "stream",
     "text": [
      "Elements from index 2 to 5: [2 3 4 5]\n",
      "Elements from beginning to index 4: [0 1 2 3 4]\n",
      "Elements from index 5 to end: [5 6 7 8 9]\n",
      "Every other element: [0 2 4 6 8]\n",
      "Reversed array: [9 8 7 6 5 4 3 2 1 0]\n",
      "First two rows:\n",
      " [[1 2 3]\n",
      " [4 5 6]]\n",
      "All rows, last column:\n",
      " [3 6 9]\n",
      "Sub-matrix (rows 0-1, cols 1-2):\n",
      " [[2 3]\n",
      " [5 6]]\n"
     ]
    }
   ],
   "source": [
    "arr = np.array([0, 1, 2, 3, 4, 5, 6, 7, 8, 9])\n",
    "\n",
    "print(\"Elements from index 2 to 5:\", arr[2:6])    # [2 3 4 5]\n",
    "print(\"Elements from beginning to index 4:\", arr[:5]) # [0 1 2 3 4]\n",
    "print(\"Elements from index 5 to end:\", arr[5:])    # [5 6 7 8 9]\n",
    "print(\"Every other element:\", arr[::2])         # [0 2 4 6 8]\n",
    "print(\"Reversed array:\", arr[::-1])           # [9 8 7 6 5 4 3 2 1 0]\n",
    "\n",
    "matrix = np.array([[1, 2, 3], [4, 5, 6], [7, 8, 9]])\n",
    "print(\"First two rows:\\n\", matrix[:2, :])\n",
    "print(\"All rows, last column:\\n\", matrix[:, 2])\n",
    "print(\"Sub-matrix (rows 0-1, cols 1-2):\\n\", matrix[0:2, 1:3])\n"
   ]
  },
  {
   "cell_type": "markdown",
   "id": "d882e362",
   "metadata": {},
   "source": [
    "### Reshaping Arrays \n",
    "Changing the shape of an array without changing its data is a common operation.\n",
    "\n",
    "    reshape()\n",
    "\n",
    "The reshape() method returns a new array with the specified shape."
   ]
  },
  {
   "cell_type": "code",
   "execution_count": 41,
   "id": "3db6687b",
   "metadata": {},
   "outputs": [
    {
     "name": "stdout",
     "output_type": "stream",
     "text": [
      "Original Array: [ 0  1  2  3  4  5  6  7  8  9 10 11]\n",
      "Reshaped to 3x4:\n",
      " [[ 0  1  2  3]\n",
      " [ 4  5  6  7]\n",
      " [ 8  9 10 11]]\n",
      "Reshaped to 2x2x3:\n",
      " [[[ 0  1  2]\n",
      "  [ 3  4  5]]\n",
      "\n",
      " [[ 6  7  8]\n",
      "  [ 9 10 11]]]\n",
      "Reshaped with auto-dimension:\n",
      " [[ 0  1  2]\n",
      " [ 3  4  5]\n",
      " [ 6  7  8]\n",
      " [ 9 10 11]]\n",
      "Original Matrix:\n",
      " [[1 2 3]\n",
      " [4 5 6]\n",
      " [7 8 9]]\n",
      "Matrix Transpose:\n",
      " [[1 4 7]\n",
      " [2 5 8]\n",
      " [3 6 9]]\n"
     ]
    }
   ],
   "source": [
    "arr = np.arange(12) # [ 0  1  2  3  4  5  6  7  8  9 10 11]\n",
    "print(\"Original Array:\", arr)\n",
    "\n",
    "# Reshape to a 3x4 matrix\n",
    "reshaped_arr = arr.reshape(3, 4)\n",
    "print(\"Reshaped to 3x4:\\n\", reshaped_arr)\n",
    "\n",
    "# Reshape to a 2x2x3 3D array\n",
    "reshaped_3d = arr.reshape(2, 2, 3)\n",
    "print(\"Reshaped to 2x2x3:\\n\", reshaped_3d)\n",
    "\n",
    "# Use -1 for an unknown dimension (NumPy calculates it)\n",
    "reshaped_auto = arr.reshape(4, -1) # 4 rows, NumPy calculates columns\n",
    "print(\"Reshaped with auto-dimension:\\n\", reshaped_auto)\n",
    "\n",
    "# Transpose a 2D array\n",
    "matrix = np.array([[1, 2, 3], [4, 5, 6], [7, 8, 9]])\n",
    "print(\"Original Matrix:\\n\", matrix)\n",
    "print(\"Matrix Transpose:\\n\", matrix.T)"
   ]
  },
  {
   "cell_type": "markdown",
   "id": "351d60ec",
   "metadata": {},
   "source": [
    "## Linear Algebra with NumPy\n",
    "NumPy provides capabilities for several linear algebra operations; however, it is recommended to use scipy.linalg for a more robust linear algebra operations.\n",
    "\n",
    "### Dot Product \n",
    "The dot product of two arrays (vectors or  2-D matrices) can be calculated using np.dot(), np.matmul, or the @ operator (for matrix multiplication). However, for n-dimensional arrays, they work differently."
   ]
  },
  {
   "cell_type": "code",
   "execution_count": 42,
   "id": "5a24fc7e",
   "metadata": {},
   "outputs": [
    {
     "name": "stdout",
     "output_type": "stream",
     "text": [
      "Vector Dot Product: 11\n",
      "Matrix Product (np.dot):\n",
      " [[19 22]\n",
      " [43 50]]\n",
      "Matrix Product (@ operator):\n",
      " [[19 22]\n",
      " [43 50]]\n"
     ]
    }
   ],
   "source": [
    "# Vector dot product\n",
    "vec1 = np.array([1, 2])\n",
    "vec2 = np.array([3, 4])\n",
    "dot_product = np.dot(vec1, vec2)\n",
    "print(\"Vector Dot Product:\", dot_product) # (1*3) + (2*4) = 11\n",
    "\n",
    "# Matrix multiplication\n",
    "mat1 = np.array([[1, 2], [3, 4]])\n",
    "mat2 = np.array([[5, 6], [7, 8]])\n",
    "matrix_product = np.dot(mat1, mat2)\n",
    "# or using the @ operator to achieve the same result\n",
    "matrix_product_at = mat1 @ mat2\n",
    "print(\"Matrix Product (np.dot):\\n\", matrix_product)\n",
    "print(\"Matrix Product (@ operator):\\n\", matrix_product_at)\n"
   ]
  },
  {
   "cell_type": "markdown",
   "id": "d97f689e",
   "metadata": {},
   "source": [
    "### Determinant, Inverse, Eigenvalues\n",
    "NumPy's linalg module provides functions for advanced linear algebra.\n",
    "\n"
   ]
  },
  {
   "cell_type": "code",
   "execution_count": 43,
   "id": "f7a0889a",
   "metadata": {},
   "outputs": [
    {
     "name": "stdout",
     "output_type": "stream",
     "text": [
      "Determinant: -2.00\n",
      "Inverse Matrix:\n",
      " [[-2.   1. ]\n",
      " [ 1.5 -0.5]]\n",
      "Eigenvalues: [-0.37 5.37]\n",
      "Eigenvectors:\n",
      " [[-0.82 -0.42]\n",
      " [0.57 -0.91]]\n"
     ]
    }
   ],
   "source": [
    "from numpy import linalg\n",
    "\n",
    "matrix = np.array([[1, 2], [3, 4]])\n",
    "\n",
    "# Determinant\n",
    "det = linalg.det(matrix)\n",
    "print(f\"Determinant: {det:.2f}\")\n",
    "\n",
    "# Inverse\n",
    "inv_matrix = linalg.inv(matrix)\n",
    "print(f\"Inverse Matrix:\\n {inv_matrix}\")\n",
    "\n",
    "# Eigenvalues and Eigenvectors\n",
    "eigenvalues, eigenvectors = linalg.eig(matrix)\n",
    "print(f\"Eigenvalues: {np.array2string(eigenvalues, formatter={'float': lambda x: f'{x:.2f}'})}\")\n",
    "print(f\"Eigenvectors:\\n {np.array2string(eigenvectors, formatter={'float': lambda x: f'{x:.2f}'})}\")"
   ]
  },
  {
   "cell_type": "markdown",
   "id": "ea36d5fb",
   "metadata": {},
   "source": [
    "### Solve linear matrix equation with M equations and M unknows </br>\n",
    "\n",
    "    x = numpy.linalg.solve(A,b)\n",
    "    where A: (M,M) array of scalars\n",
    "          b: (M,K) array of scalars\n",
    "          x: (M,K) array of scalars\n",
    "    LinAlgError occurs is a is not square or is singular\n",
    "\n",
    "Solve the system of equations\n",
    "$$ A x = b \\\\\n",
    "x_0 + 2 x_1 = 1 \\\\\n",
    "3 x_0 + 5 x_1 = 2\n",
    "$$"
   ]
  },
  {
   "cell_type": "code",
   "execution_count": 2,
   "id": "d458b187",
   "metadata": {},
   "outputs": [
    {
     "name": "stdout",
     "output_type": "stream",
     "text": [
      "Solution to Ax = b:\n",
      " [-1.  1.]\n"
     ]
    }
   ],
   "source": [
    "import numpy as np\n",
    "\n",
    "a = np.array([[1, 2], [3, 5]])\n",
    "b = np.array([1, 2])\n",
    "x = np.linalg.solve(a, b)\n",
    "print(\"Solution to Ax = b:\\n\", x)"
   ]
  },
  {
   "cell_type": "markdown",
   "id": "b6af3cf6",
   "metadata": {},
   "source": [
    "**Note**: A and A inverse are a 2x2 arrays and b is a 1x2 row vector. b is treated as a column vector in the solution $x = A^{-1} b$, and presented as a row vector."
   ]
  }
 ],
 "metadata": {
  "kernelspec": {
   "display_name": "Python 3",
   "language": "python",
   "name": "python3"
  },
  "language_info": {
   "codemirror_mode": {
    "name": "ipython",
    "version": 3
   },
   "file_extension": ".py",
   "mimetype": "text/x-python",
   "name": "python",
   "nbconvert_exporter": "python",
   "pygments_lexer": "ipython3",
   "version": "3.10.12"
  }
 },
 "nbformat": 4,
 "nbformat_minor": 5
}
