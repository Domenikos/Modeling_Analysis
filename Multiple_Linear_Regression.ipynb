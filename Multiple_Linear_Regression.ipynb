{
 "cells": [
  {
   "cell_type": "markdown",
   "id": "61034d66",
   "metadata": {},
   "source": [
    "# Predicting Concrete Compressive Strength\n",
    "\n",
    "Concrete strength is a crucial factor in civil engineering. It's influenced by the mix proportions of its ingredients. The following are variables for this model:\n",
    "\n",
    "* Dependent Variable (Y): Concrete Compressive Strength (MPa)\n",
    "\n",
    "* Independent Variables (X):\n",
    "\n",
    "    * Cement (kg/m³)\n",
    "\n",
    "    * Blast Furnace Slag (kg/m³)\n",
    "\n",
    "    * Fly Ash (kg/m³)\n",
    "\n",
    "    * Water (kg/m³)\n",
    "\n",
    "    * Superplasticizer (kg/m³)\n",
    "\n",
    "    * Coarse Aggregate (kg/m³)\n",
    "\n",
    "    * Fine Aggregate (kg/m³)\n",
    "\n",
    "    * Age (days)\n",
    "\n",
    "#### Sample Data</br>\n",
    "Since actual concrete strength data can be extensive, a small, representative synthetic dataset is created for this simulation. In a real engineering scenario, this data would come from laboratory experiments or field measurements."
   ]
  },
  {
   "cell_type": "code",
   "execution_count": null,
   "id": "8d740f7e",
   "metadata": {},
   "outputs": [],
   "source": [
    "import pandas as pd\n",
    "import numpy as np\n",
    "\n",
    "# Synthetic Data for Concrete Compressive Strength\n",
    "# (Actual datasets are much larger and more complex)\n",
    "np.random.seed(42) # for reproducibility\n",
    "data = {\n",
    "    'Cement': np.random.uniform(100, 500, 20),\n",
    "    'BlastFurnaceSlag': np.random.uniform(0, 300, 20),\n",
    "    'FlyAsh': np.random.uniform(0, 200, 20),\n",
    "    'Water': np.random.uniform(150, 250, 20),\n",
    "    'Superplasticizer': np.random.uniform(0, 20, 20),\n",
    "    'CoarseAggregate': np.random.uniform(800, 1200, 20),\n",
    "    'FineAggregate': np.random.uniform(600, 900, 20),\n",
    "    'Age': np.random.randint(7, 90, 20),\n",
    "    # Compressive Strength - simplified linear relationship + noise\n",
    "    'CompressiveStrength': (\n",
    "        5 + 0.05 * np.random.uniform(100, 500, 20) + # Cement\n",
    "        0.03 * np.random.uniform(0, 300, 20) +      # Slag\n",
    "        0.02 * np.random.uniform(0, 200, 20) -      # Fly Ash (slight negative impact sometimes)\n",
    "        0.1 * np.random.uniform(150, 250, 20) +     # Water (negative impact)\n",
    "        0.2 * np.random.uniform(0, 20, 20) +        # Superplasticizer\n",
    "        0.01 * np.random.uniform(800, 1200, 20) +   # Coarse Aggregate\n",
    "        0.01 * np.random.uniform(600, 900, 20) +    # Fine Aggregate\n",
    "        0.3 * np.random.randint(7, 90, 20) +        # Age\n",
    "        np.random.normal(0, 5, 20) # Noise\n",
    "    )\n",
    "}\n",
    "df = pd.DataFrame(data)\n",
    "\n",
    "# Ensure strength is positive and somewhat realistic\n",
    "df['CompressiveStrength'] = df['CompressiveStrength'].apply(lambda x: max(10, x)).round(2)\n",
    "\n",
    "print(\"Sample Concrete Compressive Strength Data:\")\n",
    "print(df.head())"
   ]
  },
  {
   "cell_type": "markdown",
   "id": "7b42a61c",
   "metadata": {},
   "source": [
    "### Using scikit-learn for Predictive Modeling</br>\n",
    "Use scikit-learn to build a model that can predict the compressive strength of concrete given its mix proportions and age. This is useful for quality control and mix design optimization."
   ]
  },
  {
   "cell_type": "code",
   "execution_count": null,
   "id": "84e390b8",
   "metadata": {},
   "outputs": [],
   "source": [
    "from sklearn.model_selection import train_test_split\n",
    "from sklearn.linear_model import LinearRegression\n",
    "from sklearn.metrics import mean_squared_error, r2_score\n",
    "\n",
    "# Define independent variables (X) and dependent variable (y)\n",
    "X = df[['Cement', 'BlastFurnaceSlag', 'FlyAsh', 'Water',\n",
    "        'Superplasticizer', 'CoarseAggregate', 'FineAggregate', 'Age']]\n",
    "y = df['CompressiveStrength']\n",
    "\n",
    "# Split data into training and testing sets (e.g., 80% train, 20% test)\n",
    "X_train, X_test, y_train, y_test = train_test_split(X, y, test_size=0.2, random_state=42)\n",
    "\n",
    "# Create a Linear Regression model object\n",
    "model_skl = LinearRegression()\n",
    "\n",
    "# Train the model using the training data\n",
    "model_skl.fit(X_train, y_train)\n",
    "\n",
    "# Make predictions on the test set\n",
    "y_pred_skl = model_skl.predict(X_test)\n",
    "\n",
    "# Evaluate the model's performance\n",
    "mse_skl = mean_squared_error(y_test, y_pred_skl)\n",
    "rmse_skl = np.sqrt(mse_skl) # Root Mean Squared Error\n",
    "r2_skl = r2_score(y_test, y_pred_skl)\n",
    "\n",
    "print(\"\\n--- Scikit-learn Results (for Prediction) ---\")\n",
    "print(\"Coefficients for each constituent (Cement to Age):\")\n",
    "for i, col in enumerate(X.columns):\n",
    "    print(f\"  {col}: {model_skl.coef_[i]:.4f}\")\n",
    "print(f\"Intercept: {model_skl.intercept_:.2f}\")\n",
    "print(f\"Mean Squared Error (MSE): {mse_skl:.2f}\")\n",
    "print(f\"Root Mean Squared Error (RMSE): {rmse_skl:.2f}\") # Easier to interpret than MSE\n",
    "print(f\"R-squared (R²): {r2_skl:.2f}\")\n",
    "\n",
    "# Example prediction: Predict strength for a new mix\n",
    "new_mix = pd.DataFrame([[350, 50, 20, 180, 5, 1000, 700, 28]],\n",
    "                       columns=X.columns)\n",
    "predicted_strength = model_skl.predict(new_mix)\n",
    "print(f\"\\nPredicted Compressive Strength for a new mix: {predicted_strength[0]:.2f} MPa\")"
   ]
  },
  {
   "cell_type": "markdown",
   "id": "128eb90c",
   "metadata": {},
   "source": [
    "#### Engineering Relevance of scikit-learn Output:\n",
    "\n",
    "* Coefficients: An engineer can interpret these to understand the relative impact of each ingredient on strength. For example, a positive coefficient for 'Cement' means more cement generally leads to higher strength, while a negative coefficient for 'Water' means more water (assuming all else constant) tends to reduce strength.\n",
    "\n",
    "* RMSE: Provides an intuitive measure of the typical error in predictions, in the same units as the dependent variable (MPa). An engineer wants to minimize this.\n",
    "\n",
    "* R²: Indicates how well the model explains the variability in concrete strength. A high R² suggests the model's inputs are good predictors."
   ]
  },
  {
   "cell_type": "markdown",
   "id": "0daaecf8",
   "metadata": {},
   "source": [
    "### Using statsmodels for Statistical Inference\n",
    "statsmodels is crucial for civil engineers or material scientists who need to understand the statistical significance of each concrete constituent on its strength, or to validate hypotheses about mix design."
   ]
  },
  {
   "cell_type": "code",
   "execution_count": null,
   "id": "a1dea269",
   "metadata": {},
   "outputs": [],
   "source": [
    "import statsmodels.api as sm\n",
    "\n",
    "# Add a constant (intercept) term to the independent variables\n",
    "X_sm = sm.add_constant(df[['Cement', 'BlastFurnaceSlag', 'FlyAsh', 'Water',\n",
    "                           'Superplasticizer', 'CoarseAggregate', 'FineAggregate', 'Age']])\n",
    "y_sm = df['CompressiveStrength']\n",
    "\n",
    "# Create and fit the OLS (Ordinary Least Squares) model\n",
    "model_sm = sm.OLS(y_sm, X_sm).fit()\n",
    "\n",
    "# Print the comprehensive summary of the regression results\n",
    "print(\"\\n--- Statsmodels Results (for Statistical Inference) ---\")\n",
    "print(model_sm.summary())"
   ]
  },
  {
   "cell_type": "markdown",
   "id": "611f7f0e",
   "metadata": {},
   "source": [
    "#### Engineering Relevance of statsmodels Output:\n",
    "\n",
    "* P-values (P>|t|): This is perhaps the most critical output for an engineer designing concrete mixes. A low p-value (e.g., < 0.05) for a specific ingredient indicates that its quantity has a statistically significant impact on concrete strength. For instance, if 'Water' has a very low p-value, it confirms that controlling the water content is statistically important for strength.\n",
    "\n",
    "* Confidence Intervals ([0.025, 0.975]): Provide a range for the true effect of each ingredient. An engineer can use this to understand the variability and robustness of the relationships.\n",
    "\n",
    "* F-statistic and Prob (F-statistic): These indicate if the overall model is statistically significant. A low p-value here means that the chosen mix of ingredients (as a whole) significantly predicts concrete strength.\n",
    "\n",
    "* R-squared and Adjusted R-squared: Similar to scikit-learn, but often accompanied by more detailed statistical tests and diagnostics, which are valuable for a deeper understanding of model fit and assumptions.\n",
    "\n",
    "This engineering example demonstrates how multiple linear regression can be used not just for prediction but also for gaining actionable insights into complex material behaviors, allowing engineers to optimize designs, control quality, and understand the fundamental relationships between input parameters and performance."
   ]
  }
 ],
 "metadata": {
  "kernelspec": {
   "display_name": "Python 3",
   "language": "python",
   "name": "python3"
  },
  "language_info": {
   "codemirror_mode": {
    "name": "ipython",
    "version": 3
   },
   "file_extension": ".py",
   "mimetype": "text/x-python",
   "name": "python",
   "nbconvert_exporter": "python",
   "pygments_lexer": "ipython3",
   "version": "3.10.12"
  }
 },
 "nbformat": 4,
 "nbformat_minor": 5
}
