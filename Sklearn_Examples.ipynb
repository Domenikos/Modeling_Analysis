{
 "cells": [
  {
   "cell_type": "markdown",
   "id": "f5e71fa7",
   "metadata": {},
   "source": [
    "# Scikit-learn Engineering Analysis Examples\n",
    "Scikit-learn (sklearn) is a powerful Python library for machine learning, widely used in various fields, including engineering analysis. Here is an example of how to perform a basic engineering analysis task, such as predicting material properties, using sklearn.\n",
    "Example: Predicting Material Hardness\n",
    "This example demonstrates predicting a material's hardness based on its composition using a linear regression model.</br>\n",
    "#### Explanation:\n",
    "* Data Preparation:</br>\n",
    "A sample dataset representing material composition and hardness is created. In a real-world scenario, this would be loaded from a file (e.g., CSV, Excel).</br>\n",
    "\n",
    "* Feature and Target Definition:<br>\n",
    "The independent variables (material composition) are defined as X, and the dependent variable (hardness) as y.\n",
    "* Data Splitting:</br>\n",
    "The data is split into training and testing sets to evaluate the model's generalization performance on unseen data.\n",
    "* Model Training:</br>\n",
    "A LinearRegression model from sklearn.linear_model is initialized and trained using the fit() method on the training data.\n",
    "* Prediction:</br>\n",
    "The trained model predicts hardness values for the test set using the predict() method.\n",
    "* Model Evaluation:</br>\n",
    "The mean_squared_error and root_mean_squared_error metrics are used to quantify the difference between predicted and actual hardness values.\n",
    "* New Predictions:</br>\n",
    "The trained model can then be used to predict the hardness of new, unobserved material compositions.</br>\n",
    "\n",
    "This example demonstrates a fundamental application of sklearn in engineering analysis. More complex scenarios might involve feature engineering, different machine learning algorithms (e.g., Support Vector Machines, Random Forests), and more elaborate evaluation metrics."
   ]
  },
  {
   "cell_type": "code",
   "execution_count": 4,
   "id": "e879fc39",
   "metadata": {},
   "outputs": [
    {
     "name": "stdout",
     "output_type": "stream",
     "text": [
      "Mean Squared Error: 8.0779e-27\n",
      "Root Mean Squared Error: 8.9877e-14\n",
      "Predicted Hardness for new material: 285.00 HV\n"
     ]
    }
   ],
   "source": [
    "import pandas as pd\n",
    "from sklearn.model_selection import train_test_split\n",
    "from sklearn.linear_model import LinearRegression\n",
    "from sklearn.metrics import mean_squared_error\n",
    "import numpy as np\n",
    "\n",
    "# 1. Create a sample dataset (replace with your actual engineering data)\n",
    "data = {\n",
    "    'Carbon_Content': [0.1, 0.2, 0.3, 0.4, 0.5, 0.6, 0.7, 0.8, 0.9, 1.0],\n",
    "    'Manganese_Content': [0.5, 0.6, 0.7, 0.8, 0.9, 1.0, 1.1, 1.2, 1.3, 1.4],\n",
    "    'Hardness_HV': [150, 180, 210, 240, 270, 300, 330, 360, 390, 420]\n",
    "}\n",
    "df = pd.DataFrame(data)\n",
    "\n",
    "# 2. Define features (X) and target (y)\n",
    "X = df[['Carbon_Content', 'Manganese_Content']]\n",
    "y = df['Hardness_HV']\n",
    "\n",
    "# 3. Split data into training and testing sets\n",
    "X_train, X_test, y_train, y_test = train_test_split(X, y, test_size=0.2, random_state=42)\n",
    "\n",
    "# 4. Initialize and train the Linear Regression model\n",
    "model = LinearRegression()\n",
    "model.fit(X_train, y_train)\n",
    "\n",
    "# 5. Make predictions on the test set\n",
    "y_pred = model.predict(X_test)\n",
    "\n",
    "# 6. Evaluate the model's performance\n",
    "mse = mean_squared_error(y_test, y_pred)\n",
    "rmse = np.sqrt(mse)\n",
    "\n",
    "print(f\"Mean Squared Error: {mse:0.4e}\")\n",
    "print(f\"Root Mean Squared Error: {rmse:0.4e}\")\n",
    "\n",
    "# 7. Use the trained model for new predictions\n",
    "new_material_composition = pd.DataFrame([[0.55, 0.95]], columns=['Carbon_Content', 'Manganese_Content'])\n",
    "predicted_hardness = model.predict(new_material_composition)\n",
    "print(f\"Predicted Hardness for new material: {predicted_hardness[0]:.2f} HV\")"
   ]
  }
 ],
 "metadata": {
  "kernelspec": {
   "display_name": "Python 3",
   "language": "python",
   "name": "python3"
  },
  "language_info": {
   "codemirror_mode": {
    "name": "ipython",
    "version": 3
   },
   "file_extension": ".py",
   "mimetype": "text/x-python",
   "name": "python",
   "nbconvert_exporter": "python",
   "pygments_lexer": "ipython3",
   "version": "3.10.12"
  }
 },
 "nbformat": 4,
 "nbformat_minor": 5
}
