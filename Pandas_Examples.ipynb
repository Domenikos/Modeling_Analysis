{
 "cells": [
  {
   "cell_type": "markdown",
   "id": "1e34ef49",
   "metadata": {},
   "source": [
    "# Pandas Examples\n",
    "Pandas is a powerful, open-source Python library widely used for data manipulation and analysis. Built on top of the NumPy library, Pandas provides flexible and efficient data structures that make working with structured data intuitive and fast. It's a cornerstone for data scientists and analysts, enabling tasks from data cleaning and transformation to aggregation and visualization.</br>\n",
    "[pandas documentation](https://pandas.pydata.org/)</br>\n",
    "### Pandas Features\n",
    "* Fast and efficient data structures: Primarily Series and DataFrame, designed for handling large datasets.\n",
    "* Integrated handling of missing data: Simplifies dealing with NaN values.\n",
    "* Flexible reshaping and pivoting of data sets.\n",
    "* Powerful, group-by functionality for performing split-apply-combine operations on data sets.\n",
    "* Intelligent label-based slicing, fancy indexing, and subsetting of large data sets.\n",
    "* Intuitive merging and joining of data sets.\n",
    "* Robust I/O tools for loading data from flat files (CSV, delimited), Excel files, databases, and more.\n"
   ]
  },
  {
   "cell_type": "markdown",
   "id": "05fa937b",
   "metadata": {},
   "source": [
    "#### Pandas Series"
   ]
  },
  {
   "cell_type": "code",
   "execution_count": 3,
   "id": "84d8a669",
   "metadata": {},
   "outputs": [
    {
     "name": "stdout",
     "output_type": "stream",
     "text": [
      "Series from list:\n",
      "0    10.0\n",
      "1    20.0\n",
      "2    30.0\n",
      "3     NaN\n",
      "4    40.0\n",
      "5    50.0\n",
      "dtype: float64\n",
      "------------------------------\n",
      "Series from NumPy array:\n",
      "0    100\n",
      "1    200\n",
      "2    300\n",
      "3    400\n",
      "dtype: int64\n",
      "------------------------------\n",
      "Series from dictionary:\n",
      "a    1\n",
      "b    2\n",
      "c    3\n",
      "d    4\n",
      "dtype: int64\n",
      "------------------------------\n",
      "Series with custom index:\n",
      "x    10\n",
      "y    20\n",
      "z    30\n",
      "dtype: int64\n"
     ]
    }
   ],
   "source": [
    "import pandas as pd\n",
    "import numpy as np\n",
    "\n",
    "# 1. From a list\n",
    "data_list = [10, 20, 30, np.nan, 40, 50]\n",
    "s1 = pd.Series(data_list)\n",
    "print(\"Series from list:\")\n",
    "print(s1)\n",
    "print(\"-\" * 30)\n",
    "\n",
    "# 2. From a NumPy array\n",
    "data_array = np.array([100, 200, 300, 400])\n",
    "s2 = pd.Series(data_array)\n",
    "print(\"Series from NumPy array:\")\n",
    "print(s2)\n",
    "print(\"-\" * 30)\n",
    "\n",
    "# 3. From a dictionary (keys become the index)\n",
    "data_dict = {'a': 1, 'b': 2, 'c': 3, 'd': 4}\n",
    "s3 = pd.Series(data_dict)\n",
    "print(\"Series from dictionary:\")\n",
    "print(s3)\n",
    "print(\"-\" * 30)\n",
    "\n",
    "# 4. Series with a custom index\n",
    "s4 = pd.Series([10, 20, 30], index=['x', 'y', 'z'])\n",
    "print(\"Series with custom index:\")\n",
    "print(s4)\n"
   ]
  },
  {
   "cell_type": "markdown",
   "id": "7d23d567",
   "metadata": {},
   "source": [
    "#### Pandas DataFrames"
   ]
  },
  {
   "cell_type": "code",
   "execution_count": 2,
   "id": "e8772b37",
   "metadata": {},
   "outputs": [
    {
     "name": "stdout",
     "output_type": "stream",
     "text": [
      "DataFrame from dictionary of lists:\n",
      "      Name  Age         City\n",
      "0    Alice   25     New York\n",
      "1      Bob   30  Los Angeles\n",
      "2  Charlie   35      Chicago\n",
      "3    David   40      Houston\n",
      "------------------------------\n",
      "DataFrame from dictionary of Series:\n",
      "   ColA  ColB\n",
      "0     1     4\n",
      "1     2     5\n",
      "2     3     6\n",
      "------------------------------\n",
      "DataFrame from list of dictionaries:\n",
      "    Name  Age   City\n",
      "0    Eve   28    NaN\n",
      "1  Frank   32  Miami\n",
      "------------------------------\n",
      "DataFrame from NumPy array with custom index and columns:\n",
      "          colA      colB\n",
      "row1  0.931644  0.660143\n",
      "row2  0.494502  0.648583\n",
      "row3  0.562405  0.546478\n"
     ]
    }
   ],
   "source": [
    "import pandas as pd\n",
    "import numpy as np\n",
    "\n",
    "# 1. From a dictionary of lists (most common)\n",
    "# Each key becomes a column name, and its value (a list) becomes the column's data.\n",
    "data = {\n",
    "    'Name': ['Alice', 'Bob', 'Charlie', 'David'],\n",
    "    'Age': [25, 30, 35, 40],\n",
    "    'City': ['New York', 'Los Angeles', 'Chicago', 'Houston']\n",
    "}\n",
    "df1 = pd.DataFrame(data)\n",
    "print(\"DataFrame from dictionary of lists:\")\n",
    "print(df1)\n",
    "print(\"-\" * 30)\n",
    "\n",
    "# 2. From a dictionary of Series\n",
    "# Similar to a dictionary of lists, but values are Pandas Series.\n",
    "data_series = {\n",
    "    'ColA': pd.Series([1, 2, 3]),\n",
    "    'ColB': pd.Series([4, 5, 6])\n",
    "}\n",
    "df2 = pd.DataFrame(data_series)\n",
    "print(\"DataFrame from dictionary of Series:\")\n",
    "print(df2)\n",
    "print(\"-\" * 30)\n",
    "\n",
    "# 3. From a list of dictionaries (each dictionary represents a row)\n",
    "# The keys of the dictionaries become column names. If a key is missing in a dict, NaN is used.\n",
    "data_rows = [\n",
    "    {'Name': 'Eve', 'Age': 28},\n",
    "    {'Name': 'Frank', 'Age': 32, 'City': 'Miami'}\n",
    "]\n",
    "df3 = pd.DataFrame(data_rows)\n",
    "print(\"DataFrame from list of dictionaries:\")\n",
    "print(df3)\n",
    "print(\"-\" * 30)\n",
    "\n",
    "# 4. From a NumPy array (requires specifying column names and optionally an index)\n",
    "# The array provides the values, and you provide the labels for rows (index) and columns.\n",
    "df4 = pd.DataFrame(np.random.rand(3, 2), # 3 rows, 2 columns of random numbers\n",
    "                   index=['row1', 'row2', 'row3'],\n",
    "                   columns=['colA', 'colB'])\n",
    "print(\"DataFrame from NumPy array with custom index and columns:\")\n",
    "print(df4)"
   ]
  }
 ],
 "metadata": {
  "kernelspec": {
   "display_name": "Python 3",
   "language": "python",
   "name": "python3"
  },
  "language_info": {
   "codemirror_mode": {
    "name": "ipython",
    "version": 3
   },
   "file_extension": ".py",
   "mimetype": "text/x-python",
   "name": "python",
   "nbconvert_exporter": "python",
   "pygments_lexer": "ipython3",
   "version": "3.10.12"
  }
 },
 "nbformat": 4,
 "nbformat_minor": 5
}
